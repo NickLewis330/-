{
  "nbformat": 4,
  "nbformat_minor": 0,
  "metadata": {
    "colab": {
      "name": "Week 6-A108260007-黃詩哲.ipynb",
      "provenance": [],
      "include_colab_link": true
    },
    "kernelspec": {
      "name": "python3",
      "display_name": "Python 3"
    }
  },
  "cells": [
    {
      "cell_type": "markdown",
      "metadata": {
        "id": "view-in-github",
        "colab_type": "text"
      },
      "source": [
        "<a href=\"https://colab.research.google.com/github/NickLewis330/Computational-thinking-and-programming-courses/blob/master/Week_6_A108260007_%E9%BB%83%E8%A9%A9%E5%93%B2.ipynb\" target=\"_parent\"><img src=\"https://colab.research.google.com/assets/colab-badge.svg\" alt=\"Open In Colab\"/></a>"
      ]
    },
    {
      "cell_type": "code",
      "metadata": {
        "id": "JUoSsOO4H13r",
        "colab_type": "code",
        "colab": {
          "base_uri": "https://localhost:8080/",
          "height": 102
        },
        "outputId": "e73fa26f-8566-4304-9db7-bddc15e1e9ce"
      },
      "source": [
        "第一次期中考成績 = int(input('請輸入第一次期中考成績?'))\n",
        "第二次期中考成績 = int(input('請輸入第二次期中考成績?'))\n",
        "期末考成績 = int(input('請輸入期末考成績?'))\n",
        "總分 = 第一次期中考成績 + 第二次期中考成績 + 期末考成績\n",
        "print('總分為', 總分)\n",
        "平均 = (第一次期中考成績 + 第二次期中考成績 + 期末考成績)/3\n",
        "print('平均為', 平均)"
      ],
      "execution_count": 3,
      "outputs": [
        {
          "output_type": "stream",
          "text": [
            "請輸入第一次期中考成績?75\n",
            "請輸入第二次期中考成績?80\n",
            "請輸入期末考成績?65\n",
            "總分為 220\n",
            "平均為 73.33333333333333\n"
          ],
          "name": "stdout"
        }
      ]
    },
    {
      "cell_type": "code",
      "metadata": {
        "id": "n9owjt0cUPk9",
        "colab_type": "code",
        "colab": {
          "base_uri": "https://localhost:8080/",
          "height": 68
        },
        "outputId": "d0e8d374-e75f-4434-f8a5-166dd50249c1"
      },
      "source": [
        "尺 = float(input('請輸入幾尺?'))\n",
        "吋 = float(input('請輸入幾吋?'))\n",
        "公分 = (尺*12+吋)*2.54\n",
        "print('轉換成', 公分, '公分')"
      ],
      "execution_count": 12,
      "outputs": [
        {
          "output_type": "stream",
          "text": [
            "請輸入幾尺?5\n",
            "請輸入幾吋?8\n",
            "轉換成 172.72 公分\n"
          ],
          "name": "stdout"
        }
      ]
    }
  ]
}