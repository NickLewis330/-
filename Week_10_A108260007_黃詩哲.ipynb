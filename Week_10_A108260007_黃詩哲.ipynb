{
  "nbformat": 4,
  "nbformat_minor": 0,
  "metadata": {
    "colab": {
      "name": "Week 10-A108260007-黃詩哲.ipynb",
      "provenance": [],
      "include_colab_link": true
    },
    "kernelspec": {
      "name": "python3",
      "display_name": "Python 3"
    }
  },
  "cells": [
    {
      "cell_type": "markdown",
      "metadata": {
        "id": "view-in-github",
        "colab_type": "text"
      },
      "source": [
        "<a href=\"https://colab.research.google.com/github/NickLewis330/Computational-thinking-and-programming-courses/blob/master/Week_10_A108260007_%E9%BB%83%E8%A9%A9%E5%93%B2.ipynb\" target=\"_parent\"><img src=\"https://colab.research.google.com/assets/colab-badge.svg\" alt=\"Open In Colab\"/></a>"
      ]
    },
    {
      "cell_type": "code",
      "metadata": {
        "id": "sNA4C-XWXSgS",
        "colab_type": "code",
        "colab": {
          "base_uri": "https://localhost:8080/",
          "height": 323
        },
        "outputId": "2fca1fff-eca5-4daa-cf77-ca29a93ab945"
      },
      "source": [
        "print(\"First LOOK around...\")\n",
        "do = input(\":: \")\n",
        "if do == \"LOOK\": \n",
        "    print(\"You are stuck in a sand ditch.\") \n",
        "    print(\"Crawl out LEFT or RIGHT.\") \n",
        "\n",
        "    do = input(\":: \")  \n",
        "    if do == \"LEFT\": \n",
        "        print(\"You see a STARFISH and a CRAB on the sand.\") \n",
        "        print(\"And you're hungry! Which do you eat?\")\n",
        "\n",
        "        do = input(\":: \") \n",
        "        if do == \"STARFISH\": \n",
        "            print(\"Oh no! You immediately don't feel well.\")\n",
        "            print(\"You do not survive :(\") \n",
        "        elif do == \"CRAB\": \n",
        "            print(\"Raw crab should be fine, right? YES or NO.\") \n",
        "\n",
        "            do = input(\":: \") \n",
        "            if do == \"YES\":\n",
        "                print(\"Ok, You eat it raw. Fingers crossed.\")\n",
        "                print(\"Food in your belly helps you see a TREE.\") \n",
        "\n",
        "                do = input(\":: \") \n",
        "                if do == \"TREE\":\n",
        "                    print(\"It's a coconut tree! And you're thirsty!\") \n",
        "                    print(\"Do you drink the coconut water? YES or NO.\")\n",
        "\n",
        "                    do = input(\":: \")\n",
        "                    if do == \"YES\":\n",
        "                        print(\"Oh boy. Coconut water and raw crab don't mix.\")\n",
        "                        print(\"You do not survive :(\") \n",
        "\n",
        "                    elif do == \"NO\":\n",
        "                        print(\"Good choice.\")\n",
        "                        print(\"Look! It's a rescue plane! You made it! \\o/\") \n",
        "            elif do == \"NO\":\n",
        "                print(\"Well, there's nothing else left to eat.\")\n",
        "                print(\"You do not survive :(\") \n",
        "    elif do == \"RIGHT\":\n",
        "        print(\"No can do. That side is very slippery.\") \n",
        "        print(\"You fall very far into some weird cavern.\") \n",
        "        print(\"You do not survive :(\") \n",
        "else: \n",
        "    print(\"You can only do actions shown in capital letters.\") \n",
        "    print(\"Try again!\") "
      ],
      "execution_count": 1,
      "outputs": [
        {
          "output_type": "stream",
          "text": [
            "First LOOK around...\n",
            ":: LOOK\n",
            "You are stuck in a sand ditch.\n",
            "Crawl out LEFT or RIGHT.\n",
            ":: LEFT\n",
            "You see a STARFISH and a CRAB on the sand.\n",
            "And you're hungry! Which do you eat?\n",
            ":: CRAB\n",
            "Raw crab should be fine, right? YES or NO.\n",
            ":: YES\n",
            "Ok, You eat it raw. Fingers crossed.\n",
            "Food in your belly helps you see a TREE.\n",
            ":: TREE\n",
            "It's a coconut tree! And you're thirsty!\n",
            "Do you drink the coconut water? YES or NO.\n",
            ":: YES\n",
            "Oh boy. Coconut water and raw crab don't mix.\n",
            "You do not survive :(\n"
          ],
          "name": "stdout"
        }
      ]
    },
    {
      "cell_type": "code",
      "metadata": {
        "id": "BhTL1b7sgUmx",
        "colab_type": "code",
        "colab": {
          "base_uri": "https://localhost:8080/",
          "height": 68
        },
        "outputId": "df10c77e-da12-4530-cc8b-05057173dc89"
      },
      "source": [
        "import random\n",
        "my_choice = int(input(\"請出拳 [0] 剪刀 [1] 石頭 [2] 布\"))\n",
        "print(\"我出拳為\", my_choice)\n",
        "com_choice = random.randint(0, 2)\n",
        "print(\"電腦出拳為\", com_choice)"
      ],
      "execution_count": 3,
      "outputs": [
        {
          "output_type": "stream",
          "text": [
            "請出拳 [0] 剪刀 [1] 石頭 [2] 布1\n",
            "我出拳為 1\n",
            "電腦出拳為 1\n"
          ],
          "name": "stdout"
        }
      ]
    },
    {
      "cell_type": "code",
      "metadata": {
        "id": "HLs8gfn9g01j",
        "colab_type": "code",
        "colab": {
          "base_uri": "https://localhost:8080/",
          "height": 34
        },
        "outputId": "8636ee88-33d8-4124-b614-e8c02dc1079b"
      },
      "source": [
        "if my_choice == com_choice:\n",
        "    print(\"平手\")\n",
        "elif my_choice == (com_choice + 1) % 3:\n",
        "    print(\"我贏了\")\n",
        "else:\n",
        "    print(\"我輸了\")"
      ],
      "execution_count": 4,
      "outputs": [
        {
          "output_type": "stream",
          "text": [
            "平手\n"
          ],
          "name": "stdout"
        }
      ]
    },
    {
      "cell_type": "code",
      "metadata": {
        "id": "umtfOgETizOl",
        "colab_type": "code",
        "colab": {
          "base_uri": "https://localhost:8080/",
          "height": 68
        },
        "outputId": "d722824f-0175-4b29-876c-c2f9f6adbbbc"
      },
      "source": [
        "import random\n",
        "my_choice = int(input(\"請出拳 [0] 蟲 [1] 雞 [2] 老虎 [3] 棒子\"))\n",
        "print(\"你出的拳:\", my_choice)\n",
        "com_choice = random.randint(0, 3)\n",
        "print(\"電腦出拳為\", com_choice)"
      ],
      "execution_count": 5,
      "outputs": [
        {
          "output_type": "stream",
          "text": [
            "請出拳 [0] 蟲 [1] 雞 [2] 老虎 [3] 棒子1\n",
            "你出的拳: 1\n",
            "電腦出拳為 2\n"
          ],
          "name": "stdout"
        }
      ]
    },
    {
      "cell_type": "code",
      "metadata": {
        "id": "aPzHWojWjwFP",
        "colab_type": "code",
        "colab": {
          "base_uri": "https://localhost:8080/",
          "height": 34
        },
        "outputId": "4065ffcb-8854-4261-8e7e-46850b2682a7"
      },
      "source": [
        "if my_choice == (com_choice + 1) % 4:\n",
        "    print(\"我贏了\")\n",
        "elif com_choice == (my_choice + 1) % 4:\n",
        "    print(\"電腦贏了\")\n",
        "else:\n",
        "    print(\"平手\")"
      ],
      "execution_count": 6,
      "outputs": [
        {
          "output_type": "stream",
          "text": [
            "電腦贏了\n"
          ],
          "name": "stdout"
        }
      ]
    },
    {
      "cell_type": "code",
      "metadata": {
        "id": "2yg1lMPjj8qN",
        "colab_type": "code",
        "colab": {
          "base_uri": "https://localhost:8080/",
          "height": 51
        },
        "outputId": "9676743e-5c27-43fe-f1a9-d1256df7c290"
      },
      "source": [
        "eye = float(input('請輸入眼睛度數?'))\n",
        "if eye < 0.9:\n",
        "    print('近視')\n",
        "else:\n",
        "    print('視力正常')"
      ],
      "execution_count": 7,
      "outputs": [
        {
          "output_type": "stream",
          "text": [
            "請輸入眼睛度數?0.8\n",
            "近視\n"
          ],
          "name": "stdout"
        }
      ]
    },
    {
      "cell_type": "code",
      "metadata": {
        "id": "5OEQ1en-k5zr",
        "colab_type": "code",
        "colab": {
          "base_uri": "https://localhost:8080/",
          "height": 51
        },
        "outputId": "116cf53c-fc5d-4bbf-af34-263e2108cc6d"
      },
      "source": [
        "year = int(input('請輸入年份?'))\n",
        "if ((year % 400) == 0):\n",
        "    print(year, \"是閏年\")\n",
        "elif ((year % 100) == 0):\n",
        "    print(year, \"不是閏年\")\n",
        "elif ((year % 4) == 0):\n",
        "    print(year, \"是閏年\")\n",
        "else:\n",
        "    print(year, \"不是閏年\")"
      ],
      "execution_count": 16,
      "outputs": [
        {
          "output_type": "stream",
          "text": [
            "請輸入年份?2012\n",
            "2012 是閏年\n"
          ],
          "name": "stdout"
        }
      ]
    },
    {
      "cell_type": "code",
      "metadata": {
        "id": "tryRYO8qmKAv",
        "colab_type": "code",
        "colab": {}
      },
      "source": [
        ""
      ],
      "execution_count": 0,
      "outputs": []
    }
  ]
}