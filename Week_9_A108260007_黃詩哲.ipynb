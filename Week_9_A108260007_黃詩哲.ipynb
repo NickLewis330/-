{
  "nbformat": 4,
  "nbformat_minor": 0,
  "metadata": {
    "colab": {
      "name": "Week 9-A108260007-黃詩哲.ipynb",
      "provenance": [],
      "include_colab_link": true
    },
    "kernelspec": {
      "name": "python3",
      "display_name": "Python 3"
    }
  },
  "cells": [
    {
      "cell_type": "markdown",
      "metadata": {
        "id": "view-in-github",
        "colab_type": "text"
      },
      "source": [
        "<a href=\"https://colab.research.google.com/github/NickLewis330/Computational-thinking-and-programming-courses/blob/master/Week_9_A108260007_%E9%BB%83%E8%A9%A9%E5%93%B2.ipynb\" target=\"_parent\"><img src=\"https://colab.research.google.com/assets/colab-badge.svg\" alt=\"Open In Colab\"/></a>"
      ]
    },
    {
      "cell_type": "code",
      "metadata": {
        "id": "O-sInAuUfqpF",
        "colab_type": "code",
        "colab": {}
      },
      "source": [
        "score = int(input('請輸入一個成績?'))\n",
        "if score >= 60:\n",
        "print('很好,請繼續保持下去')"
      ],
      "execution_count": 0,
      "outputs": []
    },
    {
      "cell_type": "code",
      "metadata": {
        "id": "1yQVaBowf_rX",
        "colab_type": "code",
        "colab": {}
      },
      "source": [
        "score = int(input('請輸入一個成績?'))\n",
        "if score >= 60:\n",
        "print('很好,請繼續保持下去')"
      ],
      "execution_count": 0,
      "outputs": []
    },
    {
      "cell_type": "code",
      "metadata": {
        "id": "86JjxNC2gS7p",
        "colab_type": "code",
        "colab": {}
      },
      "source": [
        "score = int(input('請輸入一個成績?'))\n",
        "if score >= 60:\n",
        "print('很好,請繼續保持下去')"
      ],
      "execution_count": 0,
      "outputs": []
    },
    {
      "cell_type": "code",
      "metadata": {
        "id": "PU-9P1J8gfHB",
        "colab_type": "code",
        "colab": {
          "base_uri": "https://localhost:8080/",
          "height": 51
        },
        "outputId": "45366d8c-ac08-4685-9a0c-6bb3b6089745"
      },
      "source": [
        "score = int(input('請輸入一個成績?'))\n",
        "if score >= 60:\n",
        "    print('很好,請繼續保持下去')"
      ],
      "execution_count": 4,
      "outputs": [
        {
          "output_type": "stream",
          "text": [
            "請輸入一個成績?88\n",
            "很好,請繼續保持下去\n"
          ],
          "name": "stdout"
        }
      ]
    },
    {
      "cell_type": "code",
      "metadata": {
        "id": "hzxP0-n_gz2V",
        "colab_type": "code",
        "colab": {
          "base_uri": "https://localhost:8080/",
          "height": 51
        },
        "outputId": "56615989-1d79-4894-a3e9-5501d2486932"
      },
      "source": [
        "score = int(input('請輸入一個成績?'))\n",
        "if score >= 60:\n",
        "    print('有及格ㄡ~')\n",
        "else:\n",
        "    print('不及格ㄟ!')"
      ],
      "execution_count": 6,
      "outputs": [
        {
          "output_type": "stream",
          "text": [
            "請輸入一個成績?50\n",
            "不及格ㄟ!\n"
          ],
          "name": "stdout"
        }
      ]
    },
    {
      "cell_type": "code",
      "metadata": {
        "id": "GG0I87DOg6iS",
        "colab_type": "code",
        "colab": {
          "base_uri": "https://localhost:8080/",
          "height": 51
        },
        "outputId": "6cdc8fb0-2fbe-45f9-8945-6673f8b4a3c2"
      },
      "source": [
        "score = int(input('請輸入一個成績?'))\n",
        "if score >= 80:\n",
        "    print('非常好')\n",
        "elif score >= 60:\n",
        "    print('不錯喔')\n",
        "else:\n",
        "    print('要加油')"
      ],
      "execution_count": 7,
      "outputs": [
        {
          "output_type": "stream",
          "text": [
            "請輸入一個成績?66\n",
            "不錯喔\n"
          ],
          "name": "stdout"
        }
      ]
    },
    {
      "cell_type": "code",
      "metadata": {
        "id": "0XOtNEVXhJBS",
        "colab_type": "code",
        "colab": {
          "base_uri": "https://localhost:8080/",
          "height": 68
        },
        "outputId": "58ca21ad-2462-4f9d-ab56-79b652cfc2fc"
      },
      "source": [
        "x = float(input('請輸入該點的X座標?')) \n",
        "y = float(input('請輸入該點的Y座標?'))\n",
        "if (x > 0):\n",
        " if (y > 0):\n",
        "    print('該點在第一象限') \n",
        " else:\n",
        "    print('該點在第四象限') \n",
        "else:\n",
        " if (y > 0):\n",
        "    print('該點在第二象限') \n",
        " else:\n",
        "    print('該點在第三象限')"
      ],
      "execution_count": 9,
      "outputs": [
        {
          "output_type": "stream",
          "text": [
            "請輸入該點的X座標?1\n",
            "請輸入該點的Y座標?1\n",
            "該點在第一象限\n"
          ],
          "name": "stdout"
        }
      ]
    },
    {
      "cell_type": "code",
      "metadata": {
        "id": "fucb86YFkqb9",
        "colab_type": "code",
        "colab": {
          "base_uri": "https://localhost:8080/",
          "height": 51
        },
        "outputId": "3abef104-de2a-4d32-ee14-d06db459df2b"
      },
      "source": [
        "cost = int(input('請輸入購買金額?'))\n",
        "if cost >= 2000:\n",
        "    print(cost * 0.9)\n",
        "else:\n",
        "    print(cost)"
      ],
      "execution_count": 10,
      "outputs": [
        {
          "output_type": "stream",
          "text": [
            "請輸入購買金額?2000\n",
            "1800.0\n"
          ],
          "name": "stdout"
        }
      ]
    },
    {
      "cell_type": "code",
      "metadata": {
        "id": "EkMi92qfmR2m",
        "colab_type": "code",
        "colab": {
          "base_uri": "https://localhost:8080/",
          "height": 51
        },
        "outputId": "28b12acb-583e-41d1-dcb9-f08e5cab7f41"
      },
      "source": [
        "num = int(input('請輸入一個整數?'))\n",
        "if num % 2 == 1:\n",
        "    print(num, '為奇數')\n",
        "else:\n",
        "    print(num, '為偶數')"
      ],
      "execution_count": 11,
      "outputs": [
        {
          "output_type": "stream",
          "text": [
            "請輸入一個整數?13\n",
            "13 為奇數\n"
          ],
          "name": "stdout"
        }
      ]
    },
    {
      "cell_type": "code",
      "metadata": {
        "id": "X4na3z_voOmY",
        "colab_type": "code",
        "colab": {}
      },
      "source": [
        ""
      ],
      "execution_count": 0,
      "outputs": []
    }
  ]
}