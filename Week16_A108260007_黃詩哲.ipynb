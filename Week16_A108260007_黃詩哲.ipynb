{
  "nbformat": 4,
  "nbformat_minor": 0,
  "metadata": {
    "colab": {
      "name": "Week16-A108260007-黃詩哲.ipynb",
      "provenance": [],
      "include_colab_link": true
    },
    "kernelspec": {
      "name": "python3",
      "display_name": "Python 3"
    }
  },
  "cells": [
    {
      "cell_type": "markdown",
      "metadata": {
        "id": "view-in-github",
        "colab_type": "text"
      },
      "source": [
        "<a href=\"https://colab.research.google.com/github/NickLewis330/Computational-thinking-and-programming-courses/blob/master/Week16_A108260007_%E9%BB%83%E8%A9%A9%E5%93%B2.ipynb\" target=\"_parent\"><img src=\"https://colab.research.google.com/assets/colab-badge.svg\" alt=\"Open In Colab\"/></a>"
      ]
    },
    {
      "cell_type": "code",
      "metadata": {
        "id": "hGcLdkWupnJB",
        "colab_type": "code",
        "colab": {
          "base_uri": "https://localhost:8080/",
          "height": 51
        },
        "outputId": "d2090ad1-471f-462f-8966-dd260dceb2e1"
      },
      "source": [
        "answer = \"wilson\"\n",
        "\n",
        "while True:\n",
        "    password = input(\"Enter your password? \")\n",
        "    if password == answer:\n",
        "        print(\"ENTER THE SYSTEM\")\n",
        "        break\n",
        "    else:\n",
        "        print(\"Try Again\")"
      ],
      "execution_count": 2,
      "outputs": [
        {
          "output_type": "stream",
          "text": [
            "Enter your password? wilson\n",
            "ENTER THE SYSTEM\n"
          ],
          "name": "stdout"
        }
      ]
    },
    {
      "cell_type": "code",
      "metadata": {
        "id": "feDuQTFFwq8A",
        "colab_type": "code",
        "colab": {
          "base_uri": "https://localhost:8080/",
          "height": 68
        },
        "outputId": "e75a8ca0-f35a-41ed-d785-d43b047b2362"
      },
      "source": [
        "while True:\n",
        "    account = input('請輸入帳號?')\n",
        "    password = input('請輸入密碼?')\n",
        "    if (account == 'sho' and password == 'wilson'):\n",
        "        print('帳號與密碼正確')\n",
        "        break\n",
        "    else:\n",
        "        print('登入失敗')"
      ],
      "execution_count": 4,
      "outputs": [
        {
          "output_type": "stream",
          "text": [
            "請輸入帳號?sho\n",
            "請輸入密碼?wilson\n",
            "帳號與密碼正確\n"
          ],
          "name": "stdout"
        }
      ]
    },
    {
      "cell_type": "code",
      "metadata": {
        "id": "pAb7zEr8zlit",
        "colab_type": "code",
        "colab": {
          "base_uri": "https://localhost:8080/",
          "height": 51
        },
        "outputId": "ca9ab732-9413-4723-a29d-72ee0406562f"
      },
      "source": [
        "answer = \"wilson\"\n",
        "times = 0\n",
        "while times <= 3:\n",
        "    password = input(\"Enter Your Password: \") \n",
        "    if password == answer: \n",
        "        print(\"登入成功\")\n",
        "        break \n",
        "    else:\n",
        "        times = times + 1\n",
        "        chance = 3 - times\n",
        "        print(\"密碼錯誤!還有\", chance, \"次機會\")"
      ],
      "execution_count": 5,
      "outputs": [
        {
          "output_type": "stream",
          "text": [
            "Enter Your Password: wilson\n",
            "登入成功\n"
          ],
          "name": "stdout"
        }
      ]
    },
    {
      "cell_type": "code",
      "metadata": {
        "id": "swvORa7T0NJB",
        "colab_type": "code",
        "colab": {}
      },
      "source": [
        ""
      ],
      "execution_count": 0,
      "outputs": []
    }
  ]
}