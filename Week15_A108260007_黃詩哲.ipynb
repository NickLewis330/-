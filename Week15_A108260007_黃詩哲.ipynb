{
  "nbformat": 4,
  "nbformat_minor": 0,
  "metadata": {
    "colab": {
      "name": "Week15-A108260007-黃詩哲.ipynb",
      "provenance": [],
      "include_colab_link": true
    },
    "kernelspec": {
      "name": "python3",
      "display_name": "Python 3"
    }
  },
  "cells": [
    {
      "cell_type": "markdown",
      "metadata": {
        "id": "view-in-github",
        "colab_type": "text"
      },
      "source": [
        "<a href=\"https://colab.research.google.com/github/NickLewis330/Computational-thinking-and-programming-courses/blob/master/Week15_A108260007_%E9%BB%83%E8%A9%A9%E5%93%B2.ipynb\" target=\"_parent\"><img src=\"https://colab.research.google.com/assets/colab-badge.svg\" alt=\"Open In Colab\"/></a>"
      ]
    },
    {
      "cell_type": "code",
      "metadata": {
        "id": "VKIj-ygmqW3S",
        "colab_type": "code",
        "colab": {
          "base_uri": "https://localhost:8080/",
          "height": 102
        },
        "outputId": "2b1cd15b-ec96-4cca-acea-ee079ee10ecf"
      },
      "source": [
        "n = 1\n",
        "\n",
        "while n < 5:\n",
        "    print(\"變數n是\", n)\n",
        "    n = n + 1\n",
        "\n",
        "print(\"Finished\")"
      ],
      "execution_count": 2,
      "outputs": [
        {
          "output_type": "stream",
          "text": [
            "變數n是 1\n",
            "變數n是 2\n",
            "變數n是 3\n",
            "變數n是 4\n",
            "Finished\n"
          ],
          "name": "stdout"
        }
      ]
    },
    {
      "cell_type": "code",
      "metadata": {
        "id": "apREkbX_rboE",
        "colab_type": "code",
        "colab": {
          "base_uri": "https://localhost:8080/",
          "height": 187
        },
        "outputId": "15b28e4e-82b7-4cc0-b46a-b37944837cc4"
      },
      "source": [
        "x = 0\n",
        "while x < 10:\n",
        "    print(\"hello\")\n",
        "    x = x + 1"
      ],
      "execution_count": 21,
      "outputs": [
        {
          "output_type": "stream",
          "text": [
            "hello\n",
            "hello\n",
            "hello\n",
            "hello\n",
            "hello\n",
            "hello\n",
            "hello\n",
            "hello\n",
            "hello\n",
            "hello\n"
          ],
          "name": "stdout"
        }
      ]
    },
    {
      "cell_type": "code",
      "metadata": {
        "id": "PyNZzyijt59o",
        "colab_type": "code",
        "colab": {
          "base_uri": "https://localhost:8080/",
          "height": 187
        },
        "outputId": "40c80285-d29d-4e71-d538-58ff7cb2f7d6"
      },
      "source": [
        "times = 0\n",
        "while times < 10:\n",
        "    times = times + 1\n",
        "    print(\"這是第\", times, \"次的hello\")    "
      ],
      "execution_count": 9,
      "outputs": [
        {
          "output_type": "stream",
          "text": [
            "這是第 1 次的hello\n",
            "這是第 2 次的hello\n",
            "這是第 3 次的hello\n",
            "這是第 4 次的hello\n",
            "這是第 5 次的hello\n",
            "這是第 6 次的hello\n",
            "這是第 7 次的hello\n",
            "這是第 8 次的hello\n",
            "這是第 9 次的hello\n",
            "這是第 10 次的hello\n"
          ],
          "name": "stdout"
        }
      ]
    },
    {
      "cell_type": "code",
      "metadata": {
        "id": "FTGIwCDmuhUw",
        "colab_type": "code",
        "colab": {
          "base_uri": "https://localhost:8080/",
          "height": 34
        },
        "outputId": "c8f2b025-780a-43b4-e742-3f127e511663"
      },
      "source": [
        "x = 0\n",
        "result = 0\n",
        "while x < 10:\n",
        "    x = x + 1\n",
        "    result = result + x\n",
        "print(\"答案是\", result)"
      ],
      "execution_count": 10,
      "outputs": [
        {
          "output_type": "stream",
          "text": [
            "答案是 55\n"
          ],
          "name": "stdout"
        }
      ]
    },
    {
      "cell_type": "code",
      "metadata": {
        "id": "0IMn28HEwh8A",
        "colab_type": "code",
        "colab": {
          "base_uri": "https://localhost:8080/",
          "height": 34
        },
        "outputId": "3b264ef4-6c0f-4e15-b44e-d560a76728cb"
      },
      "source": [
        "x = 0\n",
        "result = 0\n",
        "while result <= 50:\n",
        "    x = x + 1\n",
        "    result = result + x\n",
        "print(\"最後加的x是\", x)"
      ],
      "execution_count": 12,
      "outputs": [
        {
          "output_type": "stream",
          "text": [
            "最後加的x是 10\n"
          ],
          "name": "stdout"
        }
      ]
    },
    {
      "cell_type": "code",
      "metadata": {
        "id": "KbzDR2IByJdv",
        "colab_type": "code",
        "colab": {
          "base_uri": "https://localhost:8080/",
          "height": 34
        },
        "outputId": "bfeb8edc-4b9e-4e6a-ae41-bcfaa342fea1"
      },
      "source": [
        "sum = 0\n",
        "x = 1\n",
        "while x < 11:\n",
        "    sum = sum + x\n",
        "    x = x + 2\n",
        "print(\"1 + 3 + 5 + 7 + 9 =\", sum)"
      ],
      "execution_count": 14,
      "outputs": [
        {
          "output_type": "stream",
          "text": [
            "1 + 3 + 5 + 7 + 9 = 25\n"
          ],
          "name": "stdout"
        }
      ]
    },
    {
      "cell_type": "code",
      "metadata": {
        "id": "IXpQfgwxy4hU",
        "colab_type": "code",
        "colab": {
          "base_uri": "https://localhost:8080/",
          "height": 34
        },
        "outputId": "fcc82801-c9ad-4088-d55b-48456733c27a"
      },
      "source": [
        "sum = 0\n",
        "i = 0\n",
        "while sum <= 1000:\n",
        "    i += 1\n",
        "    sum += i*i\n",
        "print(\"最小的n值為\", i)"
      ],
      "execution_count": 15,
      "outputs": [
        {
          "output_type": "stream",
          "text": [
            "最小的n值為 14\n"
          ],
          "name": "stdout"
        }
      ]
    },
    {
      "cell_type": "code",
      "metadata": {
        "id": "jY4PkVC_05DJ",
        "colab_type": "code",
        "colab": {
          "base_uri": "https://localhost:8080/",
          "height": 51
        },
        "outputId": "b057cc4d-626b-4d23-8fe9-51a6f9abd89b"
      },
      "source": [
        "M = int(input('請輸入限制值M?')) \n",
        "factorial = 1\n",
        "i = 1\n",
        "while(factorial < M): \n",
        "    i = i + 1 \n",
        "    factorial = factorial * i\n",
        "print(i,'階乘為', factorial,'其值大於', M)"
      ],
      "execution_count": 19,
      "outputs": [
        {
          "output_type": "stream",
          "text": [
            "請輸入限制值M?100\n",
            "5 階乘為 120 其值大於 100\n"
          ],
          "name": "stdout"
        }
      ]
    },
    {
      "cell_type": "code",
      "metadata": {
        "id": "wlfM5zMs3NOg",
        "colab_type": "code",
        "colab": {}
      },
      "source": [
        ""
      ],
      "execution_count": 0,
      "outputs": []
    }
  ]
}